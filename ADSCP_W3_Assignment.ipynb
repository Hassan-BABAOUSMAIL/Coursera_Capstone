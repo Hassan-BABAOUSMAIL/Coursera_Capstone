{
  "nbformat": 4,
  "nbformat_minor": 0,
  "metadata": {
    "kernelspec": {
      "display_name": "Python",
      "language": "python",
      "name": "conda-env-python-py"
    },
    "language_info": {
      "codemirror_mode": {
        "name": "ipython",
        "version": 3
      },
      "file_extension": ".py",
      "mimetype": "text/x-python",
      "name": "python",
      "nbconvert_exporter": "python",
      "pygments_lexer": "ipython3",
      "version": "3.6.7"
    },
    "colab": {
      "name": "ADSCP-W3-Assignment.ipynb",
      "provenance": [],
      "include_colab_link": true
    }
  },
  "cells": [
    {
      "cell_type": "markdown",
      "metadata": {
        "id": "view-in-github",
        "colab_type": "text"
      },
      "source": [
        "<a href=\"https://colab.research.google.com/github/Hassan-BABAOUSMAIL/Coursera_Capstone/blob/master/ADSCP_W3_Assignment.ipynb\" target=\"_parent\"><img src=\"https://colab.research.google.com/assets/colab-badge.svg\" alt=\"Open In Colab\"/></a>"
      ]
    },
    {
      "cell_type": "markdown",
      "metadata": {
        "id": "zoG6bhOSvDmB",
        "colab_type": "text"
      },
      "source": [
        "# Week 3 Assignmet "
      ]
    },
    {
      "cell_type": "code",
      "metadata": {
        "id": "6237tqMovDmE",
        "colab_type": "code",
        "colab": {}
      },
      "source": [
        "import pandas as pd \n",
        "import numpy as np\n",
        "import matplotlib"
      ],
      "execution_count": 0,
      "outputs": []
    },
    {
      "cell_type": "markdown",
      "metadata": {
        "id": "4jIelrZ6vDmI",
        "colab_type": "text"
      },
      "source": [
        "## 1.Scarping the web"
      ]
    },
    {
      "cell_type": "code",
      "metadata": {
        "id": "dbJOpjZIvDmJ",
        "colab_type": "code",
        "colab": {
          "base_uri": "https://localhost:8080/",
          "height": 34
        },
        "outputId": "a6acc6ac-eb68-47cd-da3b-7ec178a8df7d"
      },
      "source": [
        "! pip install beautifulsoup4"
      ],
      "execution_count": 5,
      "outputs": [
        {
          "output_type": "stream",
          "text": [
            "Requirement already satisfied: beautifulsoup4 in /usr/local/lib/python3.6/dist-packages (4.6.3)\n"
          ],
          "name": "stdout"
        }
      ]
    },
    {
      "cell_type": "code",
      "metadata": {
        "id": "a97aqDMnvDmN",
        "colab_type": "code",
        "colab": {}
      },
      "source": [
        "import urllib.request, urllib.parse, urllib.error\n",
        "from bs4 import BeautifulSoup\n",
        "import ssl\n",
        "\n",
        "# Ignore SSL certificate errors\n",
        "ctx = ssl.create_default_context()\n",
        "ctx.check_hostname = False\n",
        "ctx.verify_mode = ssl.CERT_NONE\n",
        "\n",
        "url='https://en.wikipedia.org/wiki/List_of_postal_codes_of_Canada:_M'\n",
        "html = urllib.request.urlopen(url, context=ctx).read()\n",
        "soup = BeautifulSoup(html, 'html.parser')\n",
        "\n",
        "s=soup.tbody.get_text()\n",
        "l=s.split('\\n')"
      ],
      "execution_count": 0,
      "outputs": []
    },
    {
      "cell_type": "code",
      "metadata": {
        "id": "_Oc5EZ-VvDmQ",
        "colab_type": "code",
        "colab": {}
      },
      "source": [
        "ls=list()\n",
        "for j in l :\n",
        "    if len(j)>0:\n",
        "        ls.append(j)        "
      ],
      "execution_count": 0,
      "outputs": []
    },
    {
      "cell_type": "code",
      "metadata": {
        "id": "Yem9wpjUvDmT",
        "colab_type": "code",
        "colab": {}
      },
      "source": [
        "columns= ls[0:3]\n",
        "lst=ls[3:len(ls)]"
      ],
      "execution_count": 0,
      "outputs": []
    },
    {
      "cell_type": "code",
      "metadata": {
        "id": "Vl0BstH9vDmW",
        "colab_type": "code",
        "colab": {
          "base_uri": "https://localhost:8080/",
          "height": 34
        },
        "outputId": "93e54255-2aab-4afd-c6c6-4aabf134d790"
      },
      "source": [
        "post_lst=list()\n",
        "post_dic= dict()\n",
        "borough_lst=list()\n",
        "for i in range(0,len(lst),3):\n",
        "    if lst[i+1] != 'Not assigned' :\n",
        "        if lst[i] not in post_lst :\n",
        "            post_lst.append(lst[i])\n",
        "            borough_lst.append(lst[i+1])\n",
        "            if lst[i+2]== 'Not assigned': \n",
        "                lst[i+2]=lst[i+1]\n",
        "            post_dic[lst[i]]=lst[i+2]\n",
        "        else :\n",
        "            post_dic[lst[i]]= post_dic[lst[i]]+ ', ' +lst[i+2]\n",
        "post_dic\n",
        "print(len(borough_lst))"
      ],
      "execution_count": 9,
      "outputs": [
        {
          "output_type": "stream",
          "text": [
            "103\n"
          ],
          "name": "stdout"
        }
      ]
    },
    {
      "cell_type": "markdown",
      "metadata": {
        "id": "Qu1QXdHjvDmZ",
        "colab_type": "text"
      },
      "source": [
        "## 2.Creating th DataFrame"
      ]
    },
    {
      "cell_type": "code",
      "metadata": {
        "id": "6OSP3hqzvDmb",
        "colab_type": "code",
        "colab": {}
      },
      "source": [
        "dff = pd.DataFrame.from_dict(post_dic,orient='index', columns=['Neighbourhood'])"
      ],
      "execution_count": 0,
      "outputs": []
    },
    {
      "cell_type": "code",
      "metadata": {
        "id": "HH7Oz_UvvDme",
        "colab_type": "code",
        "colab": {}
      },
      "source": [
        "dff= dff.reset_index()\n",
        "dff.rename(columns={'index':'Postcode', 'Neighbourhood':'Neighbourhood'},inplace=True)\n",
        "dff['Borough'] = borough_lst\n",
        "dff = dff[['Postcode', 'Borough', 'Neighbourhood']]"
      ],
      "execution_count": 0,
      "outputs": []
    },
    {
      "cell_type": "code",
      "metadata": {
        "id": "e1xyJr7CvDmi",
        "colab_type": "code",
        "colab": {
          "base_uri": "https://localhost:8080/",
          "height": 390
        },
        "outputId": "9c6b6c35-7ced-45d1-e45a-78418a735286"
      },
      "source": [
        "dff.head(11)"
      ],
      "execution_count": 12,
      "outputs": [
        {
          "output_type": "execute_result",
          "data": {
            "text/html": [
              "<div>\n",
              "<style scoped>\n",
              "    .dataframe tbody tr th:only-of-type {\n",
              "        vertical-align: middle;\n",
              "    }\n",
              "\n",
              "    .dataframe tbody tr th {\n",
              "        vertical-align: top;\n",
              "    }\n",
              "\n",
              "    .dataframe thead th {\n",
              "        text-align: right;\n",
              "    }\n",
              "</style>\n",
              "<table border=\"1\" class=\"dataframe\">\n",
              "  <thead>\n",
              "    <tr style=\"text-align: right;\">\n",
              "      <th></th>\n",
              "      <th>Postcode</th>\n",
              "      <th>Borough</th>\n",
              "      <th>Neighbourhood</th>\n",
              "    </tr>\n",
              "  </thead>\n",
              "  <tbody>\n",
              "    <tr>\n",
              "      <th>0</th>\n",
              "      <td>M3A</td>\n",
              "      <td>North York</td>\n",
              "      <td>Parkwoods</td>\n",
              "    </tr>\n",
              "    <tr>\n",
              "      <th>1</th>\n",
              "      <td>M4A</td>\n",
              "      <td>North York</td>\n",
              "      <td>Victoria Village</td>\n",
              "    </tr>\n",
              "    <tr>\n",
              "      <th>2</th>\n",
              "      <td>M5A</td>\n",
              "      <td>Downtown Toronto</td>\n",
              "      <td>Harbourfront, Regent Park</td>\n",
              "    </tr>\n",
              "    <tr>\n",
              "      <th>3</th>\n",
              "      <td>M6A</td>\n",
              "      <td>North York</td>\n",
              "      <td>Lawrence Heights, Lawrence Manor</td>\n",
              "    </tr>\n",
              "    <tr>\n",
              "      <th>4</th>\n",
              "      <td>M7A</td>\n",
              "      <td>Queen's Park</td>\n",
              "      <td>Queen's Park</td>\n",
              "    </tr>\n",
              "    <tr>\n",
              "      <th>5</th>\n",
              "      <td>M9A</td>\n",
              "      <td>Etobicoke</td>\n",
              "      <td>Islington Avenue</td>\n",
              "    </tr>\n",
              "    <tr>\n",
              "      <th>6</th>\n",
              "      <td>M1B</td>\n",
              "      <td>Scarborough</td>\n",
              "      <td>Rouge, Malvern</td>\n",
              "    </tr>\n",
              "    <tr>\n",
              "      <th>7</th>\n",
              "      <td>M3B</td>\n",
              "      <td>North York</td>\n",
              "      <td>Don Mills North</td>\n",
              "    </tr>\n",
              "    <tr>\n",
              "      <th>8</th>\n",
              "      <td>M4B</td>\n",
              "      <td>East York</td>\n",
              "      <td>Woodbine Gardens, Parkview Hill</td>\n",
              "    </tr>\n",
              "    <tr>\n",
              "      <th>9</th>\n",
              "      <td>M5B</td>\n",
              "      <td>Downtown Toronto</td>\n",
              "      <td>Ryerson, Garden District</td>\n",
              "    </tr>\n",
              "    <tr>\n",
              "      <th>10</th>\n",
              "      <td>M6B</td>\n",
              "      <td>North York</td>\n",
              "      <td>Glencairn</td>\n",
              "    </tr>\n",
              "  </tbody>\n",
              "</table>\n",
              "</div>"
            ],
            "text/plain": [
              "   Postcode           Borough                     Neighbourhood\n",
              "0       M3A        North York                         Parkwoods\n",
              "1       M4A        North York                  Victoria Village\n",
              "2       M5A  Downtown Toronto         Harbourfront, Regent Park\n",
              "3       M6A        North York  Lawrence Heights, Lawrence Manor\n",
              "4       M7A      Queen's Park                      Queen's Park\n",
              "5       M9A         Etobicoke                  Islington Avenue\n",
              "6       M1B       Scarborough                    Rouge, Malvern\n",
              "7       M3B        North York                   Don Mills North\n",
              "8       M4B         East York   Woodbine Gardens, Parkview Hill\n",
              "9       M5B  Downtown Toronto          Ryerson, Garden District\n",
              "10      M6B        North York                         Glencairn"
            ]
          },
          "metadata": {
            "tags": []
          },
          "execution_count": 12
        }
      ]
    },
    {
      "cell_type": "code",
      "metadata": {
        "id": "gTxJirDkvDml",
        "colab_type": "code",
        "colab": {
          "base_uri": "https://localhost:8080/",
          "height": 34
        },
        "outputId": "3586db88-31ea-433c-f50f-79380ac7fc0b"
      },
      "source": [
        "dff.shape"
      ],
      "execution_count": 13,
      "outputs": [
        {
          "output_type": "execute_result",
          "data": {
            "text/plain": [
              "(103, 3)"
            ]
          },
          "metadata": {
            "tags": []
          },
          "execution_count": 13
        }
      ]
    },
    {
      "cell_type": "code",
      "metadata": {
        "id": "bFrdtpOWvDmo",
        "colab_type": "code",
        "colab": {}
      },
      "source": [
        ""
      ],
      "execution_count": 0,
      "outputs": []
    }
  ]
}